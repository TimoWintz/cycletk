{
 "metadata": {
  "language_info": {
   "codemirror_mode": {
    "name": "ipython",
    "version": 3
   },
   "file_extension": ".py",
   "mimetype": "text/x-python",
   "name": "python",
   "nbconvert_exporter": "python",
   "pygments_lexer": "ipython3",
   "version": "3.9.0-final"
  },
  "orig_nbformat": 2,
  "kernelspec": {
   "name": "python3",
   "display_name": "Python 3"
  }
 },
 "nbformat": 4,
 "nbformat_minor": 2,
 "cells": [
  {
   "cell_type": "code",
   "execution_count": 1,
   "metadata": {},
   "outputs": [],
   "source": [
    "from cycletk.calendar import Calendar\n",
    "from cycletk.riders import Rider\n",
    "from cycletk import activities\n",
    "activity = activities.read(\"test.fit\")\n",
    "activities =[activity]\n",
    "rider = Rider(cp=295, wp=20000, weight=65)\n",
    "calendar = Calendar(rider, activities)"
   ]
  },
  {
   "cell_type": "code",
   "execution_count": 2,
   "metadata": {},
   "outputs": [
    {
     "output_type": "execute_result",
     "data": {
      "text/plain": [
       "                           duration  distance     stress        Recovery  \\\n",
       "2020-11-19 10:17:34 0 days 00:31:57   14795.8  47.072482 0 days 00:05:52   \n",
       "\n",
       "                          Endurance           Tempo       Threshold  \\\n",
       "2020-11-19 10:17:34 0 days 00:12:10 0 days 00:04:38 0 days 00:04:17   \n",
       "\n",
       "                             VO2Max       Anaerobic   Neuromuscular  \n",
       "2020-11-19 10:17:34 0 days 00:03:34 0 days 00:01:19 0 days 00:00:08  "
      ],
      "text/html": "<div>\n<style scoped>\n    .dataframe tbody tr th:only-of-type {\n        vertical-align: middle;\n    }\n\n    .dataframe tbody tr th {\n        vertical-align: top;\n    }\n\n    .dataframe thead th {\n        text-align: right;\n    }\n</style>\n<table border=\"1\" class=\"dataframe\">\n  <thead>\n    <tr style=\"text-align: right;\">\n      <th></th>\n      <th>duration</th>\n      <th>distance</th>\n      <th>stress</th>\n      <th>Recovery</th>\n      <th>Endurance</th>\n      <th>Tempo</th>\n      <th>Threshold</th>\n      <th>VO2Max</th>\n      <th>Anaerobic</th>\n      <th>Neuromuscular</th>\n    </tr>\n  </thead>\n  <tbody>\n    <tr>\n      <th>2020-11-19 10:17:34</th>\n      <td>0 days 00:31:57</td>\n      <td>14795.8</td>\n      <td>47.072482</td>\n      <td>0 days 00:05:52</td>\n      <td>0 days 00:12:10</td>\n      <td>0 days 00:04:38</td>\n      <td>0 days 00:04:17</td>\n      <td>0 days 00:03:34</td>\n      <td>0 days 00:01:19</td>\n      <td>0 days 00:00:08</td>\n    </tr>\n  </tbody>\n</table>\n</div>"
     },
     "metadata": {},
     "execution_count": 2
    }
   ],
   "source": [
    "calendar"
   ]
  },
  {
   "cell_type": "code",
   "execution_count": null,
   "metadata": {},
   "outputs": [],
   "source": []
  }
 ]
}