{
 "cells": [
  {
   "cell_type": "code",
   "execution_count": 1,
   "metadata": {},
   "outputs": [],
   "source": [
    "from opendata import OpenData\n",
    "od = OpenData()\n",
    "from activityio._types import ActivityData\n",
    "import pandas as pd\n",
    "import numpy as np\n",
    "from cycletk import activities"
   ]
  },
  {
   "cell_type": "code",
   "execution_count": 2,
   "metadata": {},
   "outputs": [
    {
     "output_type": "execute_result",
     "data": {
      "text/plain": [
       "Timestamp('2018-03-17 08:29:27+0000', tz='tzutc()')"
      ]
     },
     "metadata": {},
     "execution_count": 2
    }
   ],
   "source": [
    "athlete_id = '0031326c-e796-4f35-8f25-d3937edca90f'\n",
    "activity_id = '2018_03_17_09_29_27.csv'\n",
    "athlete = od.get_local_athlete(athlete_id)\n",
    "gc_activity = athlete.get_activity(activity_id)\n",
    "activity = activities.activity_from_goldencheetah(gc_activity)\n",
    "activity.start\n"
   ]
  },
  {
   "cell_type": "code",
   "execution_count": 11,
   "metadata": {},
   "outputs": [
    {
     "output_type": "error",
     "ename": "ImportError",
     "evalue": "csv is not a supported file type",
     "traceback": [
      "\u001b[0;31m---------------------------------------------------------------------------\u001b[0m",
      "\u001b[0;31mModuleNotFoundError\u001b[0m                       Traceback (most recent call last)",
      "\u001b[0;32m~/anaconda3/envs/cycling/lib/python3.9/site-packages/activityio/_util/reader.py\u001b[0m in \u001b[0;36msmart_reader\u001b[0;34m(file_path, vanilla, **read_kwargs)\u001b[0m\n\u001b[1;32m     47\u001b[0m         \u001b[0;32mtry\u001b[0m\u001b[0;34m:\u001b[0m\u001b[0;34m\u001b[0m\u001b[0;34m\u001b[0m\u001b[0m\n\u001b[0;32m---> 48\u001b[0;31m             \u001b[0mMODULE_CACHE\u001b[0m\u001b[0;34m[\u001b[0m\u001b[0mext\u001b[0m\u001b[0;34m]\u001b[0m \u001b[0;34m=\u001b[0m \u001b[0mimport_module\u001b[0m\u001b[0;34m(\u001b[0m\u001b[0;34m'activityio.'\u001b[0m \u001b[0;34m+\u001b[0m \u001b[0mext\u001b[0m\u001b[0;34m)\u001b[0m\u001b[0;34m\u001b[0m\u001b[0;34m\u001b[0m\u001b[0m\n\u001b[0m\u001b[1;32m     49\u001b[0m         \u001b[0;32mexcept\u001b[0m \u001b[0mImportError\u001b[0m\u001b[0;34m:\u001b[0m\u001b[0;34m\u001b[0m\u001b[0;34m\u001b[0m\u001b[0m\n",
      "\u001b[0;32m~/anaconda3/envs/cycling/lib/python3.9/importlib/__init__.py\u001b[0m in \u001b[0;36mimport_module\u001b[0;34m(name, package)\u001b[0m\n\u001b[1;32m    126\u001b[0m             \u001b[0mlevel\u001b[0m \u001b[0;34m+=\u001b[0m \u001b[0;36m1\u001b[0m\u001b[0;34m\u001b[0m\u001b[0;34m\u001b[0m\u001b[0m\n\u001b[0;32m--> 127\u001b[0;31m     \u001b[0;32mreturn\u001b[0m \u001b[0m_bootstrap\u001b[0m\u001b[0;34m.\u001b[0m\u001b[0m_gcd_import\u001b[0m\u001b[0;34m(\u001b[0m\u001b[0mname\u001b[0m\u001b[0;34m[\u001b[0m\u001b[0mlevel\u001b[0m\u001b[0;34m:\u001b[0m\u001b[0;34m]\u001b[0m\u001b[0;34m,\u001b[0m \u001b[0mpackage\u001b[0m\u001b[0;34m,\u001b[0m \u001b[0mlevel\u001b[0m\u001b[0;34m)\u001b[0m\u001b[0;34m\u001b[0m\u001b[0;34m\u001b[0m\u001b[0m\n\u001b[0m\u001b[1;32m    128\u001b[0m \u001b[0;34m\u001b[0m\u001b[0m\n",
      "\u001b[0;32m~/anaconda3/envs/cycling/lib/python3.9/importlib/_bootstrap.py\u001b[0m in \u001b[0;36m_gcd_import\u001b[0;34m(name, package, level)\u001b[0m\n",
      "\u001b[0;32m~/anaconda3/envs/cycling/lib/python3.9/importlib/_bootstrap.py\u001b[0m in \u001b[0;36m_find_and_load\u001b[0;34m(name, import_)\u001b[0m\n",
      "\u001b[0;32m~/anaconda3/envs/cycling/lib/python3.9/importlib/_bootstrap.py\u001b[0m in \u001b[0;36m_find_and_load_unlocked\u001b[0;34m(name, import_)\u001b[0m\n",
      "\u001b[0;31mModuleNotFoundError\u001b[0m: No module named 'activityio.csv'",
      "\nDuring handling of the above exception, another exception occurred:\n",
      "\u001b[0;31mImportError\u001b[0m                               Traceback (most recent call last)",
      "\u001b[0;32m<ipython-input-11-6779cc352888>\u001b[0m in \u001b[0;36m<module>\u001b[0;34m\u001b[0m\n\u001b[1;32m      1\u001b[0m \u001b[0;32mimport\u001b[0m \u001b[0mos\u001b[0m\u001b[0;34m\u001b[0m\u001b[0;34m\u001b[0m\u001b[0m\n\u001b[1;32m      2\u001b[0m \u001b[0;32mfrom\u001b[0m \u001b[0mactivityio\u001b[0m\u001b[0;34m.\u001b[0m\u001b[0m_types\u001b[0m \u001b[0;32mimport\u001b[0m \u001b[0mActivityData\u001b[0m\u001b[0;34m\u001b[0m\u001b[0;34m\u001b[0m\u001b[0m\n\u001b[0;32m----> 3\u001b[0;31m \u001b[0mactivityio\u001b[0m\u001b[0;34m.\u001b[0m\u001b[0mread\u001b[0m\u001b[0;34m(\u001b[0m\u001b[0;34m\"/home/twintz/opendatastorage/data/05817f96-175c-4750-b125-4eaed7f933a9/2012_04_28_12_31_00.csv\"\u001b[0m\u001b[0;34m)\u001b[0m\u001b[0;34m\u001b[0m\u001b[0;34m\u001b[0m\u001b[0m\n\u001b[0m",
      "\u001b[0;32m~/anaconda3/envs/cycling/lib/python3.9/site-packages/activityio/_util/reader.py\u001b[0m in \u001b[0;36msmart_reader\u001b[0;34m(file_path, vanilla, **read_kwargs)\u001b[0m\n\u001b[1;32m     48\u001b[0m             \u001b[0mMODULE_CACHE\u001b[0m\u001b[0;34m[\u001b[0m\u001b[0mext\u001b[0m\u001b[0;34m]\u001b[0m \u001b[0;34m=\u001b[0m \u001b[0mimport_module\u001b[0m\u001b[0;34m(\u001b[0m\u001b[0;34m'activityio.'\u001b[0m \u001b[0;34m+\u001b[0m \u001b[0mext\u001b[0m\u001b[0;34m)\u001b[0m\u001b[0;34m\u001b[0m\u001b[0;34m\u001b[0m\u001b[0m\n\u001b[1;32m     49\u001b[0m         \u001b[0;32mexcept\u001b[0m \u001b[0mImportError\u001b[0m\u001b[0;34m:\u001b[0m\u001b[0;34m\u001b[0m\u001b[0;34m\u001b[0m\u001b[0m\n\u001b[0;32m---> 50\u001b[0;31m             \u001b[0;32mraise\u001b[0m \u001b[0mImportError\u001b[0m\u001b[0;34m(\u001b[0m\u001b[0;34m'%s is not a supported file type'\u001b[0m \u001b[0;34m%\u001b[0m \u001b[0mext\u001b[0m\u001b[0;34m)\u001b[0m\u001b[0;34m\u001b[0m\u001b[0;34m\u001b[0m\u001b[0m\n\u001b[0m\u001b[1;32m     51\u001b[0m         \u001b[0;32melse\u001b[0m\u001b[0;34m:\u001b[0m\u001b[0;34m\u001b[0m\u001b[0;34m\u001b[0m\u001b[0m\n\u001b[1;32m     52\u001b[0m             \u001b[0mmodule\u001b[0m \u001b[0;34m=\u001b[0m \u001b[0mMODULE_CACHE\u001b[0m\u001b[0;34m.\u001b[0m\u001b[0mget\u001b[0m\u001b[0;34m(\u001b[0m\u001b[0mext\u001b[0m\u001b[0;34m)\u001b[0m\u001b[0;34m\u001b[0m\u001b[0;34m\u001b[0m\u001b[0m\n",
      "\u001b[0;31mImportError\u001b[0m: csv is not a supported file type"
     ]
    }
   ],
   "source": [
    "import os\n",
    "from activityio._types import ActivityData\n",
    "activityio.read(\"/home/twintz/opendatastorage/data/05817f96-175c-4750-b125-4eaed7f933a9/2012_04_28_12_31_00.csv\")"
   ]
  },
  {
   "cell_type": "code",
   "execution_count": 4,
   "metadata": {},
   "outputs": [
    {
     "output_type": "execute_result",
     "data": {
      "text/plain": [
       "                           rider_cp  rider_wp  rider_weight        duration  \\\n",
       "2016-07-18 11:23:56+00:00     220.0   20000.0          81.0 0 days 01:33:04   \n",
       "2017-02-26 14:23:19+00:00     220.0   20000.0          81.0 0 days 01:30:04   \n",
       "2017-08-09 20:03:44+00:00     220.0   20000.0          81.0 0 days 00:18:10   \n",
       "2017-09-11 16:56:12+00:00     220.0   20000.0          81.0 0 days 00:45:03   \n",
       "2017-12-02 14:19:07+00:00     220.0   20000.0          81.0 0 days 02:05:04   \n",
       "\n",
       "                           distance  average_pwr  normalized_pwr      stress  \\\n",
       "2016-07-18 11:23:56+00:00   9507.91          NaN             NaN         NaN   \n",
       "2017-02-26 14:23:19+00:00  26599.10   121.881221      198.173680  135.218506   \n",
       "2017-08-09 20:03:44+00:00   6615.77          NaN             NaN         NaN   \n",
       "2017-09-11 16:56:12+00:00  13864.90   138.539941      184.165801   62.853556   \n",
       "2017-12-02 14:19:07+00:00  40250.50   143.980013      181.863879  172.311433   \n",
       "\n",
       "                                 Recovery        Endurance            Tempo  \\\n",
       "2016-07-18 11:23:56+00:00 0 days 01:32:03                0                0   \n",
       "2017-02-26 14:23:19+00:00 0 days 00:39:49  0 days 00:43:53  0 days 00:03:12   \n",
       "2017-08-09 20:03:44+00:00 0 days 00:18:11                0                0   \n",
       "2017-09-11 16:56:12+00:00 0 days 00:22:34  0 days 00:07:10  0 days 00:11:33   \n",
       "2017-12-02 14:19:07+00:00 0 days 00:22:34  0 days 01:18:01  0 days 00:14:26   \n",
       "\n",
       "                                 Threshold           VO2Max        Anaerobic  \\\n",
       "2016-07-18 11:23:56+00:00                0                0                0   \n",
       "2017-02-26 14:23:19+00:00  0 days 00:01:50  0 days 00:00:25  0 days 00:00:13   \n",
       "2017-08-09 20:03:44+00:00                0                0                0   \n",
       "2017-09-11 16:56:12+00:00  0 days 00:01:47  0 days 00:00:25  0 days 00:00:25   \n",
       "2017-12-02 14:19:07+00:00  0 days 00:06:50  0 days 00:00:51  0 days 00:01:06   \n",
       "\n",
       "                             Neuromuscular  \n",
       "2016-07-18 11:23:56+00:00                0  \n",
       "2017-02-26 14:23:19+00:00  0 days 00:00:43  \n",
       "2017-08-09 20:03:44+00:00                0  \n",
       "2017-09-11 16:56:12+00:00  0 days 00:01:10  \n",
       "2017-12-02 14:19:07+00:00  0 days 00:01:17  "
      ],
      "text/html": "<div>\n<style scoped>\n    .dataframe tbody tr th:only-of-type {\n        vertical-align: middle;\n    }\n\n    .dataframe tbody tr th {\n        vertical-align: top;\n    }\n\n    .dataframe thead th {\n        text-align: right;\n    }\n</style>\n<table border=\"1\" class=\"dataframe\">\n  <thead>\n    <tr style=\"text-align: right;\">\n      <th></th>\n      <th>rider_cp</th>\n      <th>rider_wp</th>\n      <th>rider_weight</th>\n      <th>duration</th>\n      <th>distance</th>\n      <th>average_pwr</th>\n      <th>normalized_pwr</th>\n      <th>stress</th>\n      <th>Recovery</th>\n      <th>Endurance</th>\n      <th>Tempo</th>\n      <th>Threshold</th>\n      <th>VO2Max</th>\n      <th>Anaerobic</th>\n      <th>Neuromuscular</th>\n    </tr>\n  </thead>\n  <tbody>\n    <tr>\n      <th>2016-07-18 11:23:56+00:00</th>\n      <td>220.0</td>\n      <td>20000.0</td>\n      <td>81.0</td>\n      <td>0 days 01:33:04</td>\n      <td>9507.91</td>\n      <td>NaN</td>\n      <td>NaN</td>\n      <td>NaN</td>\n      <td>0 days 01:32:03</td>\n      <td>0</td>\n      <td>0</td>\n      <td>0</td>\n      <td>0</td>\n      <td>0</td>\n      <td>0</td>\n    </tr>\n    <tr>\n      <th>2017-02-26 14:23:19+00:00</th>\n      <td>220.0</td>\n      <td>20000.0</td>\n      <td>81.0</td>\n      <td>0 days 01:30:04</td>\n      <td>26599.10</td>\n      <td>121.881221</td>\n      <td>198.173680</td>\n      <td>135.218506</td>\n      <td>0 days 00:39:49</td>\n      <td>0 days 00:43:53</td>\n      <td>0 days 00:03:12</td>\n      <td>0 days 00:01:50</td>\n      <td>0 days 00:00:25</td>\n      <td>0 days 00:00:13</td>\n      <td>0 days 00:00:43</td>\n    </tr>\n    <tr>\n      <th>2017-08-09 20:03:44+00:00</th>\n      <td>220.0</td>\n      <td>20000.0</td>\n      <td>81.0</td>\n      <td>0 days 00:18:10</td>\n      <td>6615.77</td>\n      <td>NaN</td>\n      <td>NaN</td>\n      <td>NaN</td>\n      <td>0 days 00:18:11</td>\n      <td>0</td>\n      <td>0</td>\n      <td>0</td>\n      <td>0</td>\n      <td>0</td>\n      <td>0</td>\n    </tr>\n    <tr>\n      <th>2017-09-11 16:56:12+00:00</th>\n      <td>220.0</td>\n      <td>20000.0</td>\n      <td>81.0</td>\n      <td>0 days 00:45:03</td>\n      <td>13864.90</td>\n      <td>138.539941</td>\n      <td>184.165801</td>\n      <td>62.853556</td>\n      <td>0 days 00:22:34</td>\n      <td>0 days 00:07:10</td>\n      <td>0 days 00:11:33</td>\n      <td>0 days 00:01:47</td>\n      <td>0 days 00:00:25</td>\n      <td>0 days 00:00:25</td>\n      <td>0 days 00:01:10</td>\n    </tr>\n    <tr>\n      <th>2017-12-02 14:19:07+00:00</th>\n      <td>220.0</td>\n      <td>20000.0</td>\n      <td>81.0</td>\n      <td>0 days 02:05:04</td>\n      <td>40250.50</td>\n      <td>143.980013</td>\n      <td>181.863879</td>\n      <td>172.311433</td>\n      <td>0 days 00:22:34</td>\n      <td>0 days 01:18:01</td>\n      <td>0 days 00:14:26</td>\n      <td>0 days 00:06:50</td>\n      <td>0 days 00:00:51</td>\n      <td>0 days 00:01:06</td>\n      <td>0 days 00:01:17</td>\n    </tr>\n  </tbody>\n</table>\n</div>"
     },
     "metadata": {},
     "execution_count": 4
    }
   ],
   "source": [
    "activityio.\n"
   ]
  },
  {
   "cell_type": "code",
   "execution_count": 5,
   "metadata": {},
   "outputs": [
    {
     "output_type": "execute_result",
     "data": {
      "text/plain": [
       "100"
      ]
     },
     "metadata": {},
     "execution_count": 5
    }
   ],
   "source": [
    "rider.cp"
   ]
  },
  {
   "cell_type": "code",
   "execution_count": 7,
   "metadata": {},
   "outputs": [
    {
     "output_type": "execute_result",
     "data": {
      "text/plain": [
       "0 days 00:00:00     0\n",
       "0 days 00:00:01    56\n",
       "0 days 00:00:02    66\n",
       "0 days 00:00:03    70\n",
       "0 days 00:00:04    75\n",
       "                   ..\n",
       "0 days 00:51:59    80\n",
       "0 days 00:52:00    83\n",
       "0 days 00:52:01    79\n",
       "0 days 00:52:02    87\n",
       "0 days 00:52:03    78\n",
       "Name: pwr, Length: 3124, dtype: int64"
      ]
     },
     "metadata": {},
     "execution_count": 7
    }
   ],
   "source": [
    "activity.pwr"
   ]
  },
  {
   "cell_type": "code",
   "execution_count": null,
   "metadata": {},
   "outputs": [],
   "source": []
  }
 ],
 "metadata": {
  "kernelspec": {
   "display_name": "Python 3",
   "language": "python",
   "name": "python3"
  },
  "language_info": {
   "codemirror_mode": {
    "name": "ipython",
    "version": 3
   },
   "file_extension": ".py",
   "mimetype": "text/x-python",
   "name": "python",
   "nbconvert_exporter": "python",
   "pygments_lexer": "ipython3",
   "version": "3.9.0-final"
  }
 },
 "nbformat": 4,
 "nbformat_minor": 4
}