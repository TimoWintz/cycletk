{
 "cells": [
  {
   "cell_type": "code",
   "execution_count": 1,
   "metadata": {},
   "outputs": [],
   "source": [
    "from cycletk import activities, physics, riders\n",
    "import activityio\n",
    "activity = activities.Activity.read(\"Proveysieux.fit\")"
   ]
  },
  {
   "cell_type": "code",
   "execution_count": 2,
   "metadata": {},
   "outputs": [
    {
     "data": {
      "text/html": [
       "<div>\n",
       "<style scoped>\n",
       "    .dataframe tbody tr th:only-of-type {\n",
       "        vertical-align: middle;\n",
       "    }\n",
       "\n",
       "    .dataframe tbody tr th {\n",
       "        vertical-align: top;\n",
       "    }\n",
       "\n",
       "    .dataframe thead th {\n",
       "        text-align: right;\n",
       "    }\n",
       "</style>\n",
       "<table border=\"1\" class=\"dataframe\">\n",
       "  <thead>\n",
       "    <tr style=\"text-align: right;\">\n",
       "      <th></th>\n",
       "      <th>lap</th>\n",
       "      <th>alt</th>\n",
       "      <th>dist</th>\n",
       "      <th>lat</th>\n",
       "      <th>lon</th>\n",
       "      <th>speed</th>\n",
       "      <th>temp</th>\n",
       "    </tr>\n",
       "    <tr>\n",
       "      <th>time</th>\n",
       "      <th></th>\n",
       "      <th></th>\n",
       "      <th></th>\n",
       "      <th></th>\n",
       "      <th></th>\n",
       "      <th></th>\n",
       "      <th></th>\n",
       "    </tr>\n",
       "  </thead>\n",
       "  <tbody>\n",
       "    <tr>\n",
       "      <th>0 days 00:00:00</th>\n",
       "      <td>1</td>\n",
       "      <td>NaN</td>\n",
       "      <td>0.00</td>\n",
       "      <td>NaN</td>\n",
       "      <td>NaN</td>\n",
       "      <td>NaN</td>\n",
       "      <td>NaN</td>\n",
       "    </tr>\n",
       "    <tr>\n",
       "      <th>0 days 00:00:01</th>\n",
       "      <td>1</td>\n",
       "      <td>114.6</td>\n",
       "      <td>1.78</td>\n",
       "      <td>NaN</td>\n",
       "      <td>NaN</td>\n",
       "      <td>2.390</td>\n",
       "      <td>22.0</td>\n",
       "    </tr>\n",
       "    <tr>\n",
       "      <th>0 days 00:00:02</th>\n",
       "      <td>1</td>\n",
       "      <td>114.6</td>\n",
       "      <td>4.11</td>\n",
       "      <td>45.183830</td>\n",
       "      <td>5.704420</td>\n",
       "      <td>0.000</td>\n",
       "      <td>22.0</td>\n",
       "    </tr>\n",
       "    <tr>\n",
       "      <th>0 days 00:00:03</th>\n",
       "      <td>1</td>\n",
       "      <td>114.6</td>\n",
       "      <td>7.89</td>\n",
       "      <td>45.183851</td>\n",
       "      <td>5.704420</td>\n",
       "      <td>2.659</td>\n",
       "      <td>22.0</td>\n",
       "    </tr>\n",
       "    <tr>\n",
       "      <th>0 days 00:00:04</th>\n",
       "      <td>1</td>\n",
       "      <td>114.6</td>\n",
       "      <td>11.03</td>\n",
       "      <td>45.183885</td>\n",
       "      <td>5.704421</td>\n",
       "      <td>2.941</td>\n",
       "      <td>22.0</td>\n",
       "    </tr>\n",
       "    <tr>\n",
       "      <th>...</th>\n",
       "      <td>...</td>\n",
       "      <td>...</td>\n",
       "      <td>...</td>\n",
       "      <td>...</td>\n",
       "      <td>...</td>\n",
       "      <td>...</td>\n",
       "      <td>...</td>\n",
       "    </tr>\n",
       "    <tr>\n",
       "      <th>0 days 01:24:19</th>\n",
       "      <td>1</td>\n",
       "      <td>121.6</td>\n",
       "      <td>32656.21</td>\n",
       "      <td>45.183955</td>\n",
       "      <td>5.704600</td>\n",
       "      <td>4.770</td>\n",
       "      <td>9.0</td>\n",
       "    </tr>\n",
       "    <tr>\n",
       "      <th>0 days 01:24:20</th>\n",
       "      <td>1</td>\n",
       "      <td>121.6</td>\n",
       "      <td>32660.66</td>\n",
       "      <td>45.183913</td>\n",
       "      <td>5.704595</td>\n",
       "      <td>4.614</td>\n",
       "      <td>9.0</td>\n",
       "    </tr>\n",
       "    <tr>\n",
       "      <th>0 days 01:24:21</th>\n",
       "      <td>1</td>\n",
       "      <td>121.8</td>\n",
       "      <td>32665.34</td>\n",
       "      <td>45.183873</td>\n",
       "      <td>5.704593</td>\n",
       "      <td>4.408</td>\n",
       "      <td>9.0</td>\n",
       "    </tr>\n",
       "    <tr>\n",
       "      <th>0 days 01:24:22</th>\n",
       "      <td>1</td>\n",
       "      <td>121.8</td>\n",
       "      <td>32669.80</td>\n",
       "      <td>45.183831</td>\n",
       "      <td>5.704590</td>\n",
       "      <td>4.304</td>\n",
       "      <td>9.0</td>\n",
       "    </tr>\n",
       "    <tr>\n",
       "      <th>0 days 01:24:23</th>\n",
       "      <td>1</td>\n",
       "      <td>121.8</td>\n",
       "      <td>32674.04</td>\n",
       "      <td>45.183791</td>\n",
       "      <td>5.704585</td>\n",
       "      <td>4.226</td>\n",
       "      <td>9.0</td>\n",
       "    </tr>\n",
       "  </tbody>\n",
       "</table>\n",
       "<p>5064 rows × 7 columns</p>\n",
       "</div>"
      ],
      "text/plain": [
       "                 lap    alt      dist        lat       lon  speed  temp\n",
       "time                                                                   \n",
       "0 days 00:00:00    1    NaN      0.00        NaN       NaN    NaN   NaN\n",
       "0 days 00:00:01    1  114.6      1.78        NaN       NaN  2.390  22.0\n",
       "0 days 00:00:02    1  114.6      4.11  45.183830  5.704420  0.000  22.0\n",
       "0 days 00:00:03    1  114.6      7.89  45.183851  5.704420  2.659  22.0\n",
       "0 days 00:00:04    1  114.6     11.03  45.183885  5.704421  2.941  22.0\n",
       "...              ...    ...       ...        ...       ...    ...   ...\n",
       "0 days 01:24:19    1  121.6  32656.21  45.183955  5.704600  4.770   9.0\n",
       "0 days 01:24:20    1  121.6  32660.66  45.183913  5.704595  4.614   9.0\n",
       "0 days 01:24:21    1  121.8  32665.34  45.183873  5.704593  4.408   9.0\n",
       "0 days 01:24:22    1  121.8  32669.80  45.183831  5.704590  4.304   9.0\n",
       "0 days 01:24:23    1  121.8  32674.04  45.183791  5.704585  4.226   9.0\n",
       "\n",
       "[5064 rows x 7 columns]"
      ]
     },
     "execution_count": 2,
     "metadata": {},
     "output_type": "execute_result"
    }
   ],
   "source": [
    "activity"
   ]
  },
  {
   "cell_type": "code",
   "execution_count": 3,
   "metadata": {},
   "outputs": [
    {
     "name": "stdout",
     "output_type": "stream",
     "text": [
      "n = 378\n"
     ]
    },
    {
     "data": {
      "text/html": [
       "<div>\n",
       "<style scoped>\n",
       "    .dataframe tbody tr th:only-of-type {\n",
       "        vertical-align: middle;\n",
       "    }\n",
       "\n",
       "    .dataframe tbody tr th {\n",
       "        vertical-align: top;\n",
       "    }\n",
       "\n",
       "    .dataframe thead th {\n",
       "        text-align: right;\n",
       "    }\n",
       "</style>\n",
       "<table border=\"1\" class=\"dataframe\">\n",
       "  <thead>\n",
       "    <tr style=\"text-align: right;\">\n",
       "      <th></th>\n",
       "      <th>lap</th>\n",
       "      <th>alt</th>\n",
       "      <th>dist</th>\n",
       "      <th>lat</th>\n",
       "      <th>lon</th>\n",
       "      <th>speed</th>\n",
       "      <th>temp</th>\n",
       "      <th>acceleration</th>\n",
       "      <th>pwr</th>\n",
       "    </tr>\n",
       "    <tr>\n",
       "      <th>time</th>\n",
       "      <th></th>\n",
       "      <th></th>\n",
       "      <th></th>\n",
       "      <th></th>\n",
       "      <th></th>\n",
       "      <th></th>\n",
       "      <th></th>\n",
       "      <th></th>\n",
       "      <th></th>\n",
       "    </tr>\n",
       "  </thead>\n",
       "  <tbody>\n",
       "    <tr>\n",
       "      <th>0 days 00:00:00</th>\n",
       "      <td>1</td>\n",
       "      <td>NaN</td>\n",
       "      <td>0.00</td>\n",
       "      <td>NaN</td>\n",
       "      <td>NaN</td>\n",
       "      <td>NaN</td>\n",
       "      <td>NaN</td>\n",
       "      <td>0.000000</td>\n",
       "      <td>0.000000</td>\n",
       "    </tr>\n",
       "    <tr>\n",
       "      <th>0 days 00:00:01</th>\n",
       "      <td>1</td>\n",
       "      <td>114.6</td>\n",
       "      <td>1.78</td>\n",
       "      <td>NaN</td>\n",
       "      <td>NaN</td>\n",
       "      <td>2.390</td>\n",
       "      <td>22.0</td>\n",
       "      <td>0.000000</td>\n",
       "      <td>0.000000</td>\n",
       "    </tr>\n",
       "    <tr>\n",
       "      <th>0 days 00:00:02</th>\n",
       "      <td>1</td>\n",
       "      <td>114.6</td>\n",
       "      <td>4.11</td>\n",
       "      <td>45.183830</td>\n",
       "      <td>5.704420</td>\n",
       "      <td>0.000</td>\n",
       "      <td>22.0</td>\n",
       "      <td>-0.353500</td>\n",
       "      <td>0.000000</td>\n",
       "    </tr>\n",
       "    <tr>\n",
       "      <th>0 days 00:00:03</th>\n",
       "      <td>1</td>\n",
       "      <td>114.6</td>\n",
       "      <td>7.89</td>\n",
       "      <td>45.183851</td>\n",
       "      <td>5.704420</td>\n",
       "      <td>2.659</td>\n",
       "      <td>22.0</td>\n",
       "      <td>0.335833</td>\n",
       "      <td>0.000000</td>\n",
       "    </tr>\n",
       "    <tr>\n",
       "      <th>0 days 00:00:04</th>\n",
       "      <td>1</td>\n",
       "      <td>114.6</td>\n",
       "      <td>11.03</td>\n",
       "      <td>45.183885</td>\n",
       "      <td>5.704421</td>\n",
       "      <td>2.941</td>\n",
       "      <td>22.0</td>\n",
       "      <td>0.629833</td>\n",
       "      <td>0.000000</td>\n",
       "    </tr>\n",
       "    <tr>\n",
       "      <th>...</th>\n",
       "      <td>...</td>\n",
       "      <td>...</td>\n",
       "      <td>...</td>\n",
       "      <td>...</td>\n",
       "      <td>...</td>\n",
       "      <td>...</td>\n",
       "      <td>...</td>\n",
       "      <td>...</td>\n",
       "      <td>...</td>\n",
       "    </tr>\n",
       "    <tr>\n",
       "      <th>0 days 01:24:19</th>\n",
       "      <td>1</td>\n",
       "      <td>121.6</td>\n",
       "      <td>32656.21</td>\n",
       "      <td>45.183955</td>\n",
       "      <td>5.704600</td>\n",
       "      <td>4.770</td>\n",
       "      <td>9.0</td>\n",
       "      <td>-0.045667</td>\n",
       "      <td>69.899905</td>\n",
       "    </tr>\n",
       "    <tr>\n",
       "      <th>0 days 01:24:20</th>\n",
       "      <td>1</td>\n",
       "      <td>121.6</td>\n",
       "      <td>32660.66</td>\n",
       "      <td>45.183913</td>\n",
       "      <td>5.704595</td>\n",
       "      <td>4.614</td>\n",
       "      <td>9.0</td>\n",
       "      <td>-0.105000</td>\n",
       "      <td>0.000000</td>\n",
       "    </tr>\n",
       "    <tr>\n",
       "      <th>0 days 01:24:21</th>\n",
       "      <td>1</td>\n",
       "      <td>121.8</td>\n",
       "      <td>32665.34</td>\n",
       "      <td>45.183873</td>\n",
       "      <td>5.704593</td>\n",
       "      <td>4.408</td>\n",
       "      <td>9.0</td>\n",
       "      <td>-0.147667</td>\n",
       "      <td>0.000000</td>\n",
       "    </tr>\n",
       "    <tr>\n",
       "      <th>0 days 01:24:22</th>\n",
       "      <td>1</td>\n",
       "      <td>121.8</td>\n",
       "      <td>32669.80</td>\n",
       "      <td>45.183831</td>\n",
       "      <td>5.704590</td>\n",
       "      <td>4.304</td>\n",
       "      <td>9.0</td>\n",
       "      <td>-0.142333</td>\n",
       "      <td>0.000000</td>\n",
       "    </tr>\n",
       "    <tr>\n",
       "      <th>0 days 01:24:23</th>\n",
       "      <td>1</td>\n",
       "      <td>121.8</td>\n",
       "      <td>32674.04</td>\n",
       "      <td>45.183791</td>\n",
       "      <td>5.704585</td>\n",
       "      <td>4.226</td>\n",
       "      <td>9.0</td>\n",
       "      <td>-0.129333</td>\n",
       "      <td>0.000000</td>\n",
       "    </tr>\n",
       "  </tbody>\n",
       "</table>\n",
       "<p>5064 rows × 9 columns</p>\n",
       "</div>"
      ],
      "text/plain": [
       "                 lap    alt      dist        lat       lon  speed  temp  \\\n",
       "time                                                                      \n",
       "0 days 00:00:00    1    NaN      0.00        NaN       NaN    NaN   NaN   \n",
       "0 days 00:00:01    1  114.6      1.78        NaN       NaN  2.390  22.0   \n",
       "0 days 00:00:02    1  114.6      4.11  45.183830  5.704420  0.000  22.0   \n",
       "0 days 00:00:03    1  114.6      7.89  45.183851  5.704420  2.659  22.0   \n",
       "0 days 00:00:04    1  114.6     11.03  45.183885  5.704421  2.941  22.0   \n",
       "...              ...    ...       ...        ...       ...    ...   ...   \n",
       "0 days 01:24:19    1  121.6  32656.21  45.183955  5.704600  4.770   9.0   \n",
       "0 days 01:24:20    1  121.6  32660.66  45.183913  5.704595  4.614   9.0   \n",
       "0 days 01:24:21    1  121.8  32665.34  45.183873  5.704593  4.408   9.0   \n",
       "0 days 01:24:22    1  121.8  32669.80  45.183831  5.704590  4.304   9.0   \n",
       "0 days 01:24:23    1  121.8  32674.04  45.183791  5.704585  4.226   9.0   \n",
       "\n",
       "                 acceleration        pwr  \n",
       "time                                      \n",
       "0 days 00:00:00      0.000000   0.000000  \n",
       "0 days 00:00:01      0.000000   0.000000  \n",
       "0 days 00:00:02     -0.353500   0.000000  \n",
       "0 days 00:00:03      0.335833   0.000000  \n",
       "0 days 00:00:04      0.629833   0.000000  \n",
       "...                       ...        ...  \n",
       "0 days 01:24:19     -0.045667  69.899905  \n",
       "0 days 01:24:20     -0.105000   0.000000  \n",
       "0 days 01:24:21     -0.147667   0.000000  \n",
       "0 days 01:24:22     -0.142333   0.000000  \n",
       "0 days 01:24:23     -0.129333   0.000000  \n",
       "\n",
       "[5064 rows x 9 columns]"
      ]
     },
     "execution_count": 3,
     "metadata": {},
     "output_type": "execute_result"
    }
   ],
   "source": [
    "rider_setup = riders.RiderSetup(75)\n",
    "physics.estimate_power(activity, rider_setup, pen=3)"
   ]
  },
  {
   "cell_type": "code",
   "execution_count": 4,
   "metadata": {},
   "outputs": [
    {
     "data": {
      "text/plain": [
       "<AxesSubplot:xlabel='time'>"
      ]
     },
     "execution_count": 4,
     "metadata": {},
     "output_type": "execute_result"
    },
    {
     "data": {
      "image/png": "[encoded data removed]",
      "text/plain": [
       "<Figure size 432x288 with 1 Axes>"
      ]
     },
     "metadata": {
      "needs_background": "light"
     },
     "output_type": "display_data"
    }
   ],
   "source": [
    "activity[\"pwr\"].plot()"
   ]
  },
  {
   "cell_type": "code",
   "execution_count": 5,
   "metadata": {},
   "outputs": [
    {
     "data": {
      "text/plain": [
       "<AxesSubplot:xlabel='time'>"
      ]
     },
     "execution_count": 5,
     "metadata": {},
     "output_type": "execute_result"
    },
    {
     "data": {
      "image/png": "[encoded data removed]",
      "text/plain": [
       "<Figure size 432x288 with 1 Axes>"
      ]
     },
     "metadata": {
      "needs_background": "light"
     },
     "output_type": "display_data"
    }
   ],
   "source": [
    "activity[\"speed\"].plot()"
   ]
  },
  {
   "cell_type": "code",
   "execution_count": 8,
   "metadata": {},
   "outputs": [
    {
     "data": {
      "text/plain": [
       "210.499147587653"
      ]
     },
     "execution_count": 8,
     "metadata": {},
     "output_type": "execute_result"
    }
   ],
   "source": [
    "activity.normalized_power()"
   ]
  },
  {
   "cell_type": "code",
   "execution_count": 6,
   "metadata": {},
   "outputs": [
    {
     "data": {
      "text/plain": [
       "<AxesSubplot:xlabel='time'>"
      ]
     },
     "execution_count": 6,
     "metadata": {},
     "output_type": "execute_result"
    },
    {
     "data": {
      "image/png": "[encoded data removed]",
      "text/plain": [
       "<Figure size 432x288 with 1 Axes>"
      ]
     },
     "metadata": {
      "needs_background": "light"
     },
     "output_type": "display_data"
    }
   ],
   "source": [
    "activity[\"acceleration\"].plot()"
   ]
  },
  {
   "cell_type": "code",
   "execution_count": null,
   "metadata": {},
   "outputs": [],
   "source": []
  }
 ],
 "metadata": {
  "kernelspec": {
   "display_name": "Python 3",
   "language": "python",
   "name": "python3"
  },
  "language_info": {
   "codemirror_mode": {
    "name": "ipython",
    "version": 3
   },
   "file_extension": ".py",
   "mimetype": "text/x-python",
   "name": "python",
   "nbconvert_exporter": "python",
   "pygments_lexer": "ipython3",
   "version": "3.9.0"
  }
 },
 "nbformat": 4,
 "nbformat_minor": 4
}
