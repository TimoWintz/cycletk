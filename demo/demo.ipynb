{
 "cells": [
  {
   "cell_type": "code",
   "execution_count": 1,
   "metadata": {},
   "outputs": [],
   "source": [
    "from cycletk.activity import *\n",
    "from cycletk.rider import Rider\n",
    "import activityio"
   ]
  },
  {
   "cell_type": "code",
   "execution_count": 2,
   "metadata": {},
   "outputs": [],
   "source": [
    "rider = Rider(cp=295, wp=20000, weight=65)"
   ]
  },
  {
   "cell_type": "code",
   "execution_count": 3,
   "metadata": {},
   "outputs": [],
   "source": [
    "x = activityio.read(\"test.fit\")"
   ]
  },
  {
   "cell_type": "code",
   "execution_count": 4,
   "metadata": {},
   "outputs": [
    {
     "data": {
      "text/html": [
       "<div>\n",
       "<style scoped>\n",
       "    .dataframe tbody tr th:only-of-type {\n",
       "        vertical-align: middle;\n",
       "    }\n",
       "\n",
       "    .dataframe tbody tr th {\n",
       "        vertical-align: top;\n",
       "    }\n",
       "\n",
       "    .dataframe thead th {\n",
       "        text-align: right;\n",
       "    }\n",
       "</style>\n",
       "<table border=\"1\" class=\"dataframe\">\n",
       "  <thead>\n",
       "    <tr style=\"text-align: right;\">\n",
       "      <th></th>\n",
       "      <th>left_right_balance</th>\n",
       "      <th>lap</th>\n",
       "      <th>alt</th>\n",
       "      <th>cad</th>\n",
       "      <th>dist</th>\n",
       "      <th>pwr</th>\n",
       "      <th>speed</th>\n",
       "      <th>wp_bal</th>\n",
       "    </tr>\n",
       "    <tr>\n",
       "      <th>time</th>\n",
       "      <th></th>\n",
       "      <th></th>\n",
       "      <th></th>\n",
       "      <th></th>\n",
       "      <th></th>\n",
       "      <th></th>\n",
       "      <th></th>\n",
       "      <th></th>\n",
       "    </tr>\n",
       "  </thead>\n",
       "  <tbody>\n",
       "    <tr>\n",
       "      <th>0 days 00:00:00</th>\n",
       "      <td>100</td>\n",
       "      <td>1</td>\n",
       "      <td>0.0</td>\n",
       "      <td>40.0</td>\n",
       "      <td>0.00</td>\n",
       "      <td>96.0</td>\n",
       "      <td>4.620</td>\n",
       "      <td>20000.000000</td>\n",
       "    </tr>\n",
       "    <tr>\n",
       "      <th>0 days 00:00:01</th>\n",
       "      <td>100</td>\n",
       "      <td>1</td>\n",
       "      <td>0.0</td>\n",
       "      <td>40.0</td>\n",
       "      <td>4.70</td>\n",
       "      <td>89.0</td>\n",
       "      <td>4.965</td>\n",
       "      <td>20000.000000</td>\n",
       "    </tr>\n",
       "    <tr>\n",
       "      <th>0 days 00:00:02</th>\n",
       "      <td>100</td>\n",
       "      <td>1</td>\n",
       "      <td>0.0</td>\n",
       "      <td>43.0</td>\n",
       "      <td>10.74</td>\n",
       "      <td>123.0</td>\n",
       "      <td>5.202</td>\n",
       "      <td>20000.000000</td>\n",
       "    </tr>\n",
       "    <tr>\n",
       "      <th>0 days 00:00:03</th>\n",
       "      <td>100</td>\n",
       "      <td>1</td>\n",
       "      <td>0.0</td>\n",
       "      <td>47.0</td>\n",
       "      <td>16.10</td>\n",
       "      <td>122.0</td>\n",
       "      <td>5.604</td>\n",
       "      <td>20000.000000</td>\n",
       "    </tr>\n",
       "    <tr>\n",
       "      <th>0 days 00:00:04</th>\n",
       "      <td>100</td>\n",
       "      <td>1</td>\n",
       "      <td>0.0</td>\n",
       "      <td>47.0</td>\n",
       "      <td>21.61</td>\n",
       "      <td>101.0</td>\n",
       "      <td>5.644</td>\n",
       "      <td>20000.000000</td>\n",
       "    </tr>\n",
       "    <tr>\n",
       "      <th>...</th>\n",
       "      <td>...</td>\n",
       "      <td>...</td>\n",
       "      <td>...</td>\n",
       "      <td>...</td>\n",
       "      <td>...</td>\n",
       "      <td>...</td>\n",
       "      <td>...</td>\n",
       "      <td>...</td>\n",
       "    </tr>\n",
       "    <tr>\n",
       "      <th>0 days 00:31:53</th>\n",
       "      <td>100</td>\n",
       "      <td>1</td>\n",
       "      <td>303.4</td>\n",
       "      <td>31.0</td>\n",
       "      <td>14789.70</td>\n",
       "      <td>8.0</td>\n",
       "      <td>3.027</td>\n",
       "      <td>13100.066468</td>\n",
       "    </tr>\n",
       "    <tr>\n",
       "      <th>0 days 00:31:54</th>\n",
       "      <td>100</td>\n",
       "      <td>1</td>\n",
       "      <td>303.6</td>\n",
       "      <td>31.0</td>\n",
       "      <td>14792.90</td>\n",
       "      <td>0.0</td>\n",
       "      <td>2.439</td>\n",
       "      <td>13201.093581</td>\n",
       "    </tr>\n",
       "    <tr>\n",
       "      <th>0 days 00:31:55</th>\n",
       "      <td>100</td>\n",
       "      <td>1</td>\n",
       "      <td>303.8</td>\n",
       "      <td>30.0</td>\n",
       "      <td>14794.80</td>\n",
       "      <td>0.0</td>\n",
       "      <td>0.921</td>\n",
       "      <td>13300.641480</td>\n",
       "    </tr>\n",
       "    <tr>\n",
       "      <th>0 days 00:31:56</th>\n",
       "      <td>100</td>\n",
       "      <td>1</td>\n",
       "      <td>303.8</td>\n",
       "      <td>22.0</td>\n",
       "      <td>14795.50</td>\n",
       "      <td>0.0</td>\n",
       "      <td>0.361</td>\n",
       "      <td>13398.731823</td>\n",
       "    </tr>\n",
       "    <tr>\n",
       "      <th>0 days 00:31:57</th>\n",
       "      <td>100</td>\n",
       "      <td>1</td>\n",
       "      <td>303.8</td>\n",
       "      <td>22.0</td>\n",
       "      <td>14795.80</td>\n",
       "      <td>0.0</td>\n",
       "      <td>0.259</td>\n",
       "      <td>13495.385952</td>\n",
       "    </tr>\n",
       "  </tbody>\n",
       "</table>\n",
       "<p>1918 rows × 8 columns</p>\n",
       "</div>"
      ],
      "text/plain": [
       "                 left_right_balance  lap    alt   cad      dist    pwr  speed  \\\n",
       "time                                                                            \n",
       "0 days 00:00:00                 100    1    0.0  40.0      0.00   96.0  4.620   \n",
       "0 days 00:00:01                 100    1    0.0  40.0      4.70   89.0  4.965   \n",
       "0 days 00:00:02                 100    1    0.0  43.0     10.74  123.0  5.202   \n",
       "0 days 00:00:03                 100    1    0.0  47.0     16.10  122.0  5.604   \n",
       "0 days 00:00:04                 100    1    0.0  47.0     21.61  101.0  5.644   \n",
       "...                             ...  ...    ...   ...       ...    ...    ...   \n",
       "0 days 00:31:53                 100    1  303.4  31.0  14789.70    8.0  3.027   \n",
       "0 days 00:31:54                 100    1  303.6  31.0  14792.90    0.0  2.439   \n",
       "0 days 00:31:55                 100    1  303.8  30.0  14794.80    0.0  0.921   \n",
       "0 days 00:31:56                 100    1  303.8  22.0  14795.50    0.0  0.361   \n",
       "0 days 00:31:57                 100    1  303.8  22.0  14795.80    0.0  0.259   \n",
       "\n",
       "                       wp_bal  \n",
       "time                           \n",
       "0 days 00:00:00  20000.000000  \n",
       "0 days 00:00:01  20000.000000  \n",
       "0 days 00:00:02  20000.000000  \n",
       "0 days 00:00:03  20000.000000  \n",
       "0 days 00:00:04  20000.000000  \n",
       "...                       ...  \n",
       "0 days 00:31:53  13100.066468  \n",
       "0 days 00:31:54  13201.093581  \n",
       "0 days 00:31:55  13300.641480  \n",
       "0 days 00:31:56  13398.731823  \n",
       "0 days 00:31:57  13495.385952  \n",
       "\n",
       "[1918 rows x 8 columns]"
      ]
     },
     "execution_count": 4,
     "metadata": {},
     "output_type": "execute_result"
    }
   ],
   "source": [
    "set_wp_bal(x, rider)"
   ]
  },
  {
   "cell_type": "code",
   "execution_count": 5,
   "metadata": {},
   "outputs": [
    {
     "data": {
      "text/plain": [
       "<AxesSubplot:xlabel='time'>"
      ]
     },
     "execution_count": 5,
     "metadata": {},
     "output_type": "execute_result"
    },
    {
     "data": {
      "image/png": "[encoded data removed]",
      "text/plain": [
       "<Figure size 432x288 with 1 Axes>"
      ]
     },
     "metadata": {
      "needs_background": "light"
     },
     "output_type": "display_data"
    }
   ],
   "source": [
    "x[\"wp_bal\"].plot(ylim=[0,rider.wp])"
   ]
  },
  {
   "cell_type": "code",
   "execution_count": 6,
   "metadata": {},
   "outputs": [
    {
     "data": {
      "text/plain": [
       "214.43430656934308"
      ]
     },
     "execution_count": 6,
     "metadata": {},
     "output_type": "execute_result"
    }
   ],
   "source": [
    "average_power(x)"
   ]
  },
  {
   "cell_type": "code",
   "execution_count": 7,
   "metadata": {},
   "outputs": [
    {
     "data": {
      "text/plain": [
       "260.7771313738503"
      ]
     },
     "execution_count": 7,
     "metadata": {},
     "output_type": "execute_result"
    }
   ],
   "source": [
    "normalized_power(x)"
   ]
  },
  {
   "cell_type": "code",
   "execution_count": 8,
   "metadata": {},
   "outputs": [
    {
     "data": {
      "text/plain": [
       "682.0"
      ]
     },
     "execution_count": 8,
     "metadata": {},
     "output_type": "execute_result"
    }
   ],
   "source": [
    "maximum_power(x)"
   ]
  },
  {
   "cell_type": "code",
   "execution_count": 9,
   "metadata": {},
   "outputs": [
    {
     "data": {
      "text/plain": [
       "0.8839902758435603"
      ]
     },
     "execution_count": 9,
     "metadata": {},
     "output_type": "execute_result"
    }
   ],
   "source": [
    "intensity(x, rider)"
   ]
  },
  {
   "cell_type": "code",
   "execution_count": 10,
   "metadata": {},
   "outputs": [
    {
     "data": {
      "text/plain": [
       "47.072482188669575"
      ]
     },
     "execution_count": 10,
     "metadata": {},
     "output_type": "execute_result"
    }
   ],
   "source": [
    "stress(x, rider)"
   ]
  },
  {
   "cell_type": "code",
   "execution_count": 11,
   "metadata": {},
   "outputs": [
    {
     "data": {
      "text/plain": [
       "<AxesSubplot:>"
      ]
     },
     "execution_count": 11,
     "metadata": {},
     "output_type": "execute_result"
    },
    {
     "data": {
      "image/png": "[encoded data removed]",
      "text/plain": [
       "<Figure size 432x288 with 1 Axes>"
      ]
     },
     "metadata": {
      "needs_background": "light"
     },
     "output_type": "display_data"
    }
   ],
   "source": [
    "power_curve(x).plot()"
   ]
  },
  {
   "cell_type": "code",
   "execution_count": 12,
   "metadata": {},
   "outputs": [],
   "source": [
    "df = power_zones(x, rider)"
   ]
  },
  {
   "cell_type": "code",
   "execution_count": 14,
   "metadata": {},
   "outputs": [
    {
     "data": {
      "text/plain": [
       "<AxesSubplot:>"
      ]
     },
     "execution_count": 14,
     "metadata": {},
     "output_type": "execute_result"
    },
    {
     "data": {
      "image/png": "[encoded data removed]",
      "text/plain": [
       "<Figure size 432x288 with 1 Axes>"
      ]
     },
     "metadata": {
      "needs_background": "light"
     },
     "output_type": "display_data"
    }
   ],
   "source": [
    "df[\"percent\"].plot(kind=\"bar\")"
   ]
  },
  {
   "cell_type": "code",
   "execution_count": null,
   "metadata": {},
   "outputs": [],
   "source": [
    "y.index[1:]"
   ]
  },
  {
   "cell_type": "code",
   "execution_count": null,
   "metadata": {},
   "outputs": [],
   "source": []
  }
 ],
 "metadata": {
  "kernelspec": {
   "display_name": "Python 3",
   "language": "python",
   "name": "python3"
  },
  "language_info": {
   "codemirror_mode": {
    "name": "ipython",
    "version": 3
   },
   "file_extension": ".py",
   "mimetype": "text/x-python",
   "name": "python",
   "nbconvert_exporter": "python",
   "pygments_lexer": "ipython3",
   "version": "3.9.0"
  }
 },
 "nbformat": 4,
 "nbformat_minor": 4
}
